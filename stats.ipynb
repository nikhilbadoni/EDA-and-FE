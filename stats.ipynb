{
 "cells": [
  {
   "cell_type": "code",
   "execution_count": 142,
   "id": "5207be47",
   "metadata": {},
   "outputs": [
    {
     "name": "stdout",
     "output_type": "stream",
     "text": [
      "Requirement already satisfied: statsmodels in /Users/nikhilbadoni/opt/anaconda3/lib/python3.9/site-packages (0.13.2)\n",
      "Requirement already satisfied: packaging>=21.3 in /Users/nikhilbadoni/opt/anaconda3/lib/python3.9/site-packages (from statsmodels) (21.3)\n",
      "Requirement already satisfied: pandas>=0.25 in /Users/nikhilbadoni/opt/anaconda3/lib/python3.9/site-packages (from statsmodels) (1.4.2)\n",
      "Requirement already satisfied: numpy>=1.17 in /Users/nikhilbadoni/opt/anaconda3/lib/python3.9/site-packages (from statsmodels) (1.21.5)\n",
      "Requirement already satisfied: patsy>=0.5.2 in /Users/nikhilbadoni/opt/anaconda3/lib/python3.9/site-packages (from statsmodels) (0.5.2)\n",
      "Requirement already satisfied: scipy>=1.3 in /Users/nikhilbadoni/opt/anaconda3/lib/python3.9/site-packages (from statsmodels) (1.7.3)\n",
      "Requirement already satisfied: pyparsing!=3.0.5,>=2.0.2 in /Users/nikhilbadoni/opt/anaconda3/lib/python3.9/site-packages (from packaging>=21.3->statsmodels) (3.0.4)\n",
      "Requirement already satisfied: python-dateutil>=2.8.1 in /Users/nikhilbadoni/opt/anaconda3/lib/python3.9/site-packages (from pandas>=0.25->statsmodels) (2.8.2)\n",
      "Requirement already satisfied: pytz>=2020.1 in /Users/nikhilbadoni/opt/anaconda3/lib/python3.9/site-packages (from pandas>=0.25->statsmodels) (2021.3)\n",
      "Requirement already satisfied: six in /Users/nikhilbadoni/opt/anaconda3/lib/python3.9/site-packages (from patsy>=0.5.2->statsmodels) (1.16.0)\n",
      "Note: you may need to restart the kernel to use updated packages.\n"
     ]
    }
   ],
   "source": [
    "pip install statsmodels"
   ]
  },
  {
   "cell_type": "code",
   "execution_count": 144,
   "id": "6874cdfc",
   "metadata": {},
   "outputs": [],
   "source": [
    "import pandas as pd\n",
    "import numpy as np\n",
    "import seaborn as sns\n",
    "from statistics import mode\n",
    "import scipy.stats as stats\n",
    "from numpy.random import randn\n",
    "from statsmodels.stats.weightstats import ztest"
   ]
  },
  {
   "cell_type": "code",
   "execution_count": 6,
   "id": "1e777073",
   "metadata": {},
   "outputs": [],
   "source": [
    "population = np.random.randint(10,20,50)"
   ]
  },
  {
   "cell_type": "code",
   "execution_count": 7,
   "id": "257485e0",
   "metadata": {},
   "outputs": [
    {
     "data": {
      "text/plain": [
       "array([15, 14, 16, 18, 18, 17, 11, 17, 10, 19, 12, 16, 10, 15, 13, 12, 14,\n",
       "       15, 10, 15, 12, 14, 14, 10, 15, 14, 10, 12, 19, 16, 19, 16, 11, 15,\n",
       "       11, 18, 15, 11, 19, 19, 12, 17, 15, 11, 10, 16, 16, 11, 18, 18])"
      ]
     },
     "execution_count": 7,
     "metadata": {},
     "output_type": "execute_result"
    }
   ],
   "source": [
    "population"
   ]
  },
  {
   "cell_type": "code",
   "execution_count": 8,
   "id": "e28f43c8",
   "metadata": {},
   "outputs": [
    {
     "data": {
      "text/plain": [
       "14.42"
      ]
     },
     "execution_count": 8,
     "metadata": {},
     "output_type": "execute_result"
    }
   ],
   "source": [
    "np.mean(population)"
   ]
  },
  {
   "cell_type": "code",
   "execution_count": 10,
   "id": "08d09e91",
   "metadata": {},
   "outputs": [
    {
     "data": {
      "text/plain": [
       "15.0"
      ]
     },
     "execution_count": 10,
     "metadata": {},
     "output_type": "execute_result"
    }
   ],
   "source": [
    "np.median(population)"
   ]
  },
  {
   "cell_type": "code",
   "execution_count": 12,
   "id": "ab1a14cf",
   "metadata": {},
   "outputs": [
    {
     "data": {
      "text/plain": [
       "15"
      ]
     },
     "execution_count": 12,
     "metadata": {},
     "output_type": "execute_result"
    }
   ],
   "source": [
    "mode(population)"
   ]
  },
  {
   "cell_type": "code",
   "execution_count": 14,
   "id": "f8e2b46b",
   "metadata": {},
   "outputs": [
    {
     "name": "stdout",
     "output_type": "stream",
     "text": [
      "Mean of the poopulation is 14.42\n",
      "Median of the poopulation is 15.0\n",
      "Mode of the poopulation is 15\n"
     ]
    }
   ],
   "source": [
    "print(f\"Mean of the poopulation is {np.mean(population)}\")\n",
    "print(f\"Median of the poopulation is {np.median(population)}\")\n",
    "print(f\"Mode of the poopulation is {mode(population)}\")"
   ]
  },
  {
   "cell_type": "code",
   "execution_count": 17,
   "id": "5ddd035f",
   "metadata": {},
   "outputs": [],
   "source": [
    "sample = np.random.choice(population,20)"
   ]
  },
  {
   "cell_type": "code",
   "execution_count": 18,
   "id": "6aedf25e",
   "metadata": {},
   "outputs": [
    {
     "name": "stdout",
     "output_type": "stream",
     "text": [
      "Mean of the poopulation is 14.95\n",
      "Median of the poopulation is 15.5\n",
      "Mode of the poopulation is 19\n"
     ]
    }
   ],
   "source": [
    "print(f\"Mean of the poopulation is {np.mean(sample)}\")\n",
    "print(f\"Median of the poopulation is {np.median(sample)}\")\n",
    "print(f\"Mode of the poopulation is {mode(sample)}\")"
   ]
  },
  {
   "cell_type": "code",
   "execution_count": 23,
   "id": "7b11eaca",
   "metadata": {},
   "outputs": [],
   "source": [
    "sample1 = np.random.choice(population,20)\n",
    "sample2 = np.random.choice(population,20)\n",
    "sample3 = np.random.choice(population,20)\n",
    "sample4 = np.random.choice(population,20)"
   ]
  },
  {
   "cell_type": "code",
   "execution_count": 24,
   "id": "d54609ee",
   "metadata": {},
   "outputs": [
    {
     "name": "stdout",
     "output_type": "stream",
     "text": [
      "[14 16 10 16 10 10 17 10 14 11 15 18 15 18 14 16 14 16 19 15]\n",
      "============================================================\n",
      "[12 15 12 15 11 18 12 10 13 14 15 10 10 15 12 11 12 18 17 14]\n",
      "============================================================\n",
      "[12 14 15 19 15 18 19 11 10 15 17 15 19 16 10 12 14 18 17 16]\n",
      "============================================================\n",
      "[16 11 17 12 13 11 19 16 11 16 12 14 14 12 11 17 15 12 15 16]\n"
     ]
    }
   ],
   "source": [
    "print(sample1)\n",
    "print(60*'=')\n",
    "print(sample2)\n",
    "print(60*'=')\n",
    "print(sample3)\n",
    "print(60*'=')\n",
    "print(sample4)"
   ]
  },
  {
   "cell_type": "code",
   "execution_count": 25,
   "id": "e88ba9fd",
   "metadata": {},
   "outputs": [],
   "source": [
    "mean_of_samples = []\n",
    "\n",
    "all_sample = [sample1,sample2,sample3,sample4]\n",
    "\n",
    "for sample in all_sample:\n",
    "    mean_of_samples.append(np.mean(sample))"
   ]
  },
  {
   "cell_type": "code",
   "execution_count": 26,
   "id": "10397034",
   "metadata": {},
   "outputs": [
    {
     "data": {
      "text/plain": [
       "[14.4, 13.3, 15.1, 14.0]"
      ]
     },
     "execution_count": 26,
     "metadata": {},
     "output_type": "execute_result"
    }
   ],
   "source": [
    "mean_of_samples"
   ]
  },
  {
   "cell_type": "markdown",
   "id": "62db28d6",
   "metadata": {},
   "source": [
    "## Central Limit Theorem\n"
   ]
  },
  {
   "cell_type": "code",
   "execution_count": 31,
   "id": "0f3cc5d4",
   "metadata": {},
   "outputs": [],
   "source": [
    "population = np.random.binomial(10.0,0.5,10000)"
   ]
  },
  {
   "cell_type": "code",
   "execution_count": 32,
   "id": "fe9f3b05",
   "metadata": {},
   "outputs": [
    {
     "name": "stdout",
     "output_type": "stream",
     "text": [
      "[3 4 7 ... 7 3 3]\n"
     ]
    }
   ],
   "source": [
    "print(population)"
   ]
  },
  {
   "cell_type": "code",
   "execution_count": 33,
   "id": "eea6855f",
   "metadata": {},
   "outputs": [
    {
     "data": {
      "text/plain": [
       "10000"
      ]
     },
     "execution_count": 33,
     "metadata": {},
     "output_type": "execute_result"
    }
   ],
   "source": [
    "len(population)"
   ]
  },
  {
   "cell_type": "code",
   "execution_count": 57,
   "id": "811b3697",
   "metadata": {},
   "outputs": [
    {
     "data": {
      "text/plain": [
       "<seaborn.axisgrid.FacetGrid at 0x7faf94a529d0>"
      ]
     },
     "execution_count": 57,
     "metadata": {},
     "output_type": "execute_result"
    },
    {
     "data": {
      "image/png": "[encoded data removed]",
      "text/plain": [
       "<Figure size 360x360 with 1 Axes>"
      ]
     },
     "metadata": {
      "needs_background": "light"
     },
     "output_type": "display_data"
    }
   ],
   "source": [
    "sns.displot(population,kde=True)"
   ]
  },
  {
   "cell_type": "code",
   "execution_count": 42,
   "id": "262fcdf4",
   "metadata": {},
   "outputs": [
    {
     "data": {
      "text/plain": [
       "3000"
      ]
     },
     "execution_count": 42,
     "metadata": {},
     "output_type": "execute_result"
    }
   ],
   "source": [
    "int(len(population)*0.30)"
   ]
  },
  {
   "cell_type": "code",
   "execution_count": 43,
   "id": "c6f0f8eb",
   "metadata": {},
   "outputs": [],
   "source": [
    "size=int(len(population)*0.30)"
   ]
  },
  {
   "cell_type": "code",
   "execution_count": 46,
   "id": "b902bc0e",
   "metadata": {},
   "outputs": [],
   "source": [
    "sample_mean = []\n",
    "\n",
    "for i in range(1,31):\n",
    "    sample = np.random.choice(population,size=size)\n",
    "    sample_mean.append(np.mean(sample))"
   ]
  },
  {
   "cell_type": "code",
   "execution_count": 47,
   "id": "527aead9",
   "metadata": {},
   "outputs": [
    {
     "data": {
      "text/plain": [
       "[5.032,\n",
       " 5.060666666666667,\n",
       " 5.062333333333333,\n",
       " 5.0216666666666665,\n",
       " 4.966333333333333,\n",
       " 5.049,\n",
       " 5.032666666666667,\n",
       " 5.057333333333333,\n",
       " 5.018666666666666,\n",
       " 5.033,\n",
       " 5.007666666666666,\n",
       " 5.033,\n",
       " 5.067333333333333,\n",
       " 4.980333333333333,\n",
       " 4.975,\n",
       " 5.0,\n",
       " 5.0553333333333335,\n",
       " 5.065333333333333,\n",
       " 5.0183333333333335,\n",
       " 5.035333333333333,\n",
       " 4.976,\n",
       " 5.072666666666667,\n",
       " 5.050666666666666,\n",
       " 5.008333333333334,\n",
       " 5.014666666666667,\n",
       " 4.988,\n",
       " 5.078,\n",
       " 4.990333333333333,\n",
       " 5.004333333333333,\n",
       " 5.053]"
      ]
     },
     "execution_count": 47,
     "metadata": {},
     "output_type": "execute_result"
    }
   ],
   "source": [
    "sample_mean"
   ]
  },
  {
   "cell_type": "code",
   "execution_count": 48,
   "id": "c3cb7046",
   "metadata": {},
   "outputs": [
    {
     "name": "stderr",
     "output_type": "stream",
     "text": [
      "/Users/nikhilbadoni/opt/anaconda3/lib/python3.9/site-packages/seaborn/distributions.py:2619: FutureWarning: `distplot` is a deprecated function and will be removed in a future version. Please adapt your code to use either `displot` (a figure-level function with similar flexibility) or `histplot` (an axes-level function for histograms).\n",
      "  warnings.warn(msg, FutureWarning)\n"
     ]
    },
    {
     "data": {
      "text/plain": [
       "<AxesSubplot:ylabel='Density'>"
      ]
     },
     "execution_count": 48,
     "metadata": {},
     "output_type": "execute_result"
    },
    {
     "data": {
      "image/png": "[encoded data removed]",
      "text/plain": [
       "<Figure size 432x288 with 1 Axes>"
      ]
     },
     "metadata": {
      "needs_background": "light"
     },
     "output_type": "display_data"
    }
   ],
   "source": [
    "sns.distplot(sample_mean)"
   ]
  },
  {
   "cell_type": "code",
   "execution_count": 49,
   "id": "0288727b",
   "metadata": {},
   "outputs": [],
   "source": [
    "sample_mean = []\n",
    "\n",
    "for i in range(1,100):\n",
    "    sample = np.random.choice(population,size=size)\n",
    "    sample_mean.append(np.mean(sample))"
   ]
  },
  {
   "cell_type": "code",
   "execution_count": 50,
   "id": "f2a61b4a",
   "metadata": {},
   "outputs": [
    {
     "name": "stderr",
     "output_type": "stream",
     "text": [
      "/Users/nikhilbadoni/opt/anaconda3/lib/python3.9/site-packages/seaborn/distributions.py:2619: FutureWarning: `distplot` is a deprecated function and will be removed in a future version. Please adapt your code to use either `displot` (a figure-level function with similar flexibility) or `histplot` (an axes-level function for histograms).\n",
      "  warnings.warn(msg, FutureWarning)\n"
     ]
    },
    {
     "data": {
      "text/plain": [
       "<AxesSubplot:ylabel='Density'>"
      ]
     },
     "execution_count": 50,
     "metadata": {},
     "output_type": "execute_result"
    },
    {
     "data": {
      "image/png": "[encoded data removed]",
      "text/plain": [
       "<Figure size 432x288 with 1 Axes>"
      ]
     },
     "metadata": {
      "needs_background": "light"
     },
     "output_type": "display_data"
    }
   ],
   "source": [
    "sns.distplot(sample_mean)"
   ]
  },
  {
   "cell_type": "code",
   "execution_count": 53,
   "id": "c89fc3ce",
   "metadata": {},
   "outputs": [],
   "source": [
    "sample_mean = []\n",
    "\n",
    "for i in range(1,1000):\n",
    "    sample = np.random.choice(population,size=size)\n",
    "    sample_mean.append(np.mean(sample))"
   ]
  },
  {
   "cell_type": "code",
   "execution_count": 54,
   "id": "d30261c0",
   "metadata": {},
   "outputs": [
    {
     "name": "stderr",
     "output_type": "stream",
     "text": [
      "/Users/nikhilbadoni/opt/anaconda3/lib/python3.9/site-packages/seaborn/distributions.py:2619: FutureWarning: `distplot` is a deprecated function and will be removed in a future version. Please adapt your code to use either `displot` (a figure-level function with similar flexibility) or `histplot` (an axes-level function for histograms).\n",
      "  warnings.warn(msg, FutureWarning)\n"
     ]
    },
    {
     "data": {
      "text/plain": [
       "<AxesSubplot:ylabel='Density'>"
      ]
     },
     "execution_count": 54,
     "metadata": {},
     "output_type": "execute_result"
    },
    {
     "data": {
      "image/png": "[encoded data removed]",
      "text/plain": [
       "<Figure size 432x288 with 1 Axes>"
      ]
     },
     "metadata": {
      "needs_background": "light"
     },
     "output_type": "display_data"
    }
   ],
   "source": [
    "sns.distplot(sample_mean,kde=True,color='Red')"
   ]
  },
  {
   "cell_type": "code",
   "execution_count": 58,
   "id": "16bc2814",
   "metadata": {},
   "outputs": [
    {
     "data": {
      "text/plain": [
       "5.023916916916917"
      ]
     },
     "execution_count": 58,
     "metadata": {},
     "output_type": "execute_result"
    }
   ],
   "source": [
    "np.mean(sample_mean)"
   ]
  },
  {
   "cell_type": "markdown",
   "id": "fe8bf557",
   "metadata": {},
   "source": [
    "## Confidence Interval and Margin of Error"
   ]
  },
  {
   "cell_type": "code",
   "execution_count": 98,
   "id": "ae19d4d9",
   "metadata": {},
   "outputs": [],
   "source": [
    "population = np.random.randint(10,20,50)"
   ]
  },
  {
   "cell_type": "code",
   "execution_count": 99,
   "id": "79b6bf57",
   "metadata": {},
   "outputs": [
    {
     "data": {
      "text/plain": [
       "array([19, 17, 15, 15, 16, 15, 19, 12, 13, 16, 18, 12, 11, 14, 11, 14, 10,\n",
       "       19, 19, 12, 16, 10, 16, 12, 10, 17, 13, 12, 13, 15, 18, 14, 12, 12,\n",
       "       16, 15, 18, 16, 14, 10, 13, 13, 19, 15, 11, 19, 15, 14, 10, 16])"
      ]
     },
     "execution_count": 99,
     "metadata": {},
     "output_type": "execute_result"
    }
   ],
   "source": [
    "population"
   ]
  },
  {
   "cell_type": "code",
   "execution_count": 100,
   "id": "1c2c6ab1",
   "metadata": {},
   "outputs": [],
   "source": [
    "sample1 = np.random.choice(population,20)\n",
    "sample2 = np.random.choice(population,20)\n",
    "sample3 = np.random.choice(population,20)\n",
    "sample4 = np.random.choice(population,20)"
   ]
  },
  {
   "cell_type": "code",
   "execution_count": 101,
   "id": "767521a2",
   "metadata": {},
   "outputs": [],
   "source": [
    "mean_of_samples = []\n",
    "\n",
    "all_sample = [sample1,sample2,sample3,sample4]\n",
    "\n",
    "for sample in all_sample:\n",
    "    mean_of_samples.append(np.mean(sample))"
   ]
  },
  {
   "cell_type": "code",
   "execution_count": 102,
   "id": "69999dc6",
   "metadata": {},
   "outputs": [],
   "source": [
    "#stats.norm.ppf(q=0.95)"
   ]
  },
  {
   "cell_type": "code",
   "execution_count": 103,
   "id": "f4ba6822",
   "metadata": {},
   "outputs": [],
   "source": [
    "#stats.norm.ppf(q=0.975)"
   ]
  },
  {
   "cell_type": "code",
   "execution_count": 104,
   "id": "0c8b2857",
   "metadata": {},
   "outputs": [],
   "source": [
    "#stats.norm.ppf(q=0.99)"
   ]
  },
  {
   "cell_type": "code",
   "execution_count": 105,
   "id": "69125f3e",
   "metadata": {},
   "outputs": [],
   "source": [
    "z_crititcal = stats.norm.ppf(q=0.975)"
   ]
  },
  {
   "cell_type": "code",
   "execution_count": 106,
   "id": "0a65b48f",
   "metadata": {},
   "outputs": [],
   "source": [
    "t_critical = stats.t.ppf(q=0.975,df=24)"
   ]
  },
  {
   "cell_type": "code",
   "execution_count": 107,
   "id": "d33b1e12",
   "metadata": {},
   "outputs": [],
   "source": [
    "margin_of_error = z_crititcal * (np.std(mean_of_samples)/np.sqrt(20))"
   ]
  },
  {
   "cell_type": "code",
   "execution_count": 108,
   "id": "e1825be7",
   "metadata": {},
   "outputs": [
    {
     "data": {
      "text/plain": [
       "14.627085954977309"
      ]
     },
     "execution_count": 108,
     "metadata": {},
     "output_type": "execute_result"
    }
   ],
   "source": [
    "np.mean(mean_of_samples) - margin_of_error"
   ]
  },
  {
   "cell_type": "code",
   "execution_count": 109,
   "id": "d9ba399d",
   "metadata": {},
   "outputs": [
    {
     "data": {
      "text/plain": [
       "14.89791404502269"
      ]
     },
     "execution_count": 109,
     "metadata": {},
     "output_type": "execute_result"
    }
   ],
   "source": [
    "np.mean(mean_of_samples) + margin_of_error"
   ]
  },
  {
   "cell_type": "markdown",
   "id": "20408791",
   "metadata": {},
   "source": [
    "## Z - TEST"
   ]
  },
  {
   "cell_type": "code",
   "execution_count": 168,
   "id": "d32318bb",
   "metadata": {},
   "outputs": [],
   "source": [
    "population = randn(100)"
   ]
  },
  {
   "cell_type": "code",
   "execution_count": 169,
   "id": "cf0e3590",
   "metadata": {},
   "outputs": [
    {
     "data": {
      "text/plain": [
       "array([-1.58592526e+00, -9.47800885e-01,  5.25000300e-01, -1.25355838e+00,\n",
       "       -5.41607340e-01, -8.82626767e-01, -4.91295977e-01,  9.52310850e-01,\n",
       "       -1.06778447e+00, -5.76819598e-01, -1.66204042e+00, -1.23917357e+00,\n",
       "       -9.71250409e-01,  8.59961751e-01, -7.60307630e-01, -3.20821570e-01,\n",
       "       -3.54028308e-01, -1.87264370e-01, -2.21429751e-01,  1.78892521e+00,\n",
       "        7.17846010e-01,  1.27181983e+00, -1.13898163e-01, -7.03136442e-01,\n",
       "       -1.24919188e-03,  1.84926557e-01,  5.13351372e-01, -5.71547732e-02,\n",
       "        5.12537082e-01, -1.01026791e+00,  9.38020554e-01, -2.24944837e-01,\n",
       "       -2.60540874e-01, -6.60851359e-01,  1.57203331e+00,  3.56160497e-02,\n",
       "       -2.12346121e-01,  1.51047456e-01, -1.07017946e+00, -1.82772127e+00,\n",
       "        5.91198638e-01,  9.06674997e-01, -9.38326427e-01,  9.70953689e-01,\n",
       "        4.65514069e-01,  3.28102971e-01, -4.45435144e-01, -7.57848327e-01,\n",
       "       -2.66633284e+00,  1.77558333e+00, -3.14768927e-01, -3.43678195e-01,\n",
       "       -1.44008373e+00, -1.01769429e-02, -6.15822821e-02,  1.13562305e+00,\n",
       "       -7.84129982e-01, -2.23551452e+00, -1.04048224e+00, -6.27582724e-01,\n",
       "        1.30425279e+00, -6.01496836e-01, -1.36439951e+00,  1.42538876e+00,\n",
       "       -5.77878350e-01, -2.85604368e-01,  1.61385254e+00, -1.55919086e-01,\n",
       "        1.35785347e+00,  5.77398829e-01,  2.04025096e+00,  6.86801215e-01,\n",
       "       -6.81077862e-01, -3.49257781e-02, -1.74412591e+00,  6.96690525e-02,\n",
       "        5.57730572e-01,  5.66245924e-01, -3.32835575e-01, -1.88580482e+00,\n",
       "        1.28830133e+00, -6.41825048e-01,  1.25003835e-01, -1.44213601e-01,\n",
       "        9.94777687e-01,  1.07067975e-01,  2.21290927e+00,  5.64983227e-01,\n",
       "       -5.43194436e-02, -1.12573005e+00,  5.04137088e-01, -2.73745879e-01,\n",
       "       -6.83325357e-02,  8.57404332e-01, -1.08074943e-01, -3.18010884e-01,\n",
       "       -1.27843585e+00,  3.62596638e-01, -2.42754095e+00, -3.24862832e-01])"
      ]
     },
     "execution_count": 169,
     "metadata": {},
     "output_type": "execute_result"
    }
   ],
   "source": [
    "population"
   ]
  },
  {
   "cell_type": "code",
   "execution_count": 170,
   "id": "216440f5",
   "metadata": {},
   "outputs": [
    {
     "name": "stderr",
     "output_type": "stream",
     "text": [
      "/Users/nikhilbadoni/opt/anaconda3/lib/python3.9/site-packages/seaborn/distributions.py:2619: FutureWarning: `distplot` is a deprecated function and will be removed in a future version. Please adapt your code to use either `displot` (a figure-level function with similar flexibility) or `histplot` (an axes-level function for histograms).\n",
      "  warnings.warn(msg, FutureWarning)\n"
     ]
    },
    {
     "data": {
      "text/plain": [
       "<AxesSubplot:ylabel='Density'>"
      ]
     },
     "execution_count": 170,
     "metadata": {},
     "output_type": "execute_result"
    },
    {
     "data": {
      "image/png": "[encoded data removed]",
      "text/plain": [
       "<Figure size 432x288 with 1 Axes>"
      ]
     },
     "metadata": {
      "needs_background": "light"
     },
     "output_type": "display_data"
    }
   ],
   "source": [
    "sns.distplot(population)"
   ]
  },
  {
   "cell_type": "code",
   "execution_count": 171,
   "id": "3a0974a3",
   "metadata": {},
   "outputs": [
    {
     "name": "stdout",
     "output_type": "stream",
     "text": [
      "Mean of Population -0.11887454916293771, Standard Deviaition of Population 0.9873698882314864\n"
     ]
    }
   ],
   "source": [
    "print(f\"Mean of Population {np.mean(population)}, Standard Deviaition of Population {np.std(population)}\")"
   ]
  },
  {
   "cell_type": "code",
   "execution_count": 172,
   "id": "9c653956",
   "metadata": {},
   "outputs": [],
   "source": [
    "null_mean=0.012"
   ]
  },
  {
   "cell_type": "code",
   "execution_count": 182,
   "id": "33ec8263",
   "metadata": {},
   "outputs": [],
   "source": [
    "C.I = 95%\n",
    "ALPHA = 0.05 (5%)"
   ]
  },
  {
   "cell_type": "code",
   "execution_count": 181,
   "id": "0ab97e83",
   "metadata": {},
   "outputs": [],
   "source": [
    "P<=0.05 #REJECT NULL HYPOTHESIS\n",
    "P>0.05 #ACCEPT THE NULL HYPOTHESIS "
   ]
  },
  {
   "cell_type": "code",
   "execution_count": 180,
   "id": "44d0bace",
   "metadata": {},
   "outputs": [],
   "source": [
    "P<= ALPHA\n",
    "P> ALPHA"
   ]
  },
  {
   "cell_type": "code",
   "execution_count": 176,
   "id": "c5a925e7",
   "metadata": {},
   "outputs": [],
   "source": [
    "\n",
    "alpha = 0.05"
   ]
  },
  {
   "cell_type": "code",
   "execution_count": 177,
   "id": "f8ee9661",
   "metadata": {},
   "outputs": [],
   "source": [
    "z_score,p_value= ztest(population,value=null_mean,alternative='larger')"
   ]
  },
  {
   "cell_type": "code",
   "execution_count": 178,
   "id": "d9272f54",
   "metadata": {},
   "outputs": [
    {
     "data": {
      "text/plain": [
       "0.9063891053865092"
      ]
     },
     "execution_count": 178,
     "metadata": {},
     "output_type": "execute_result"
    }
   ],
   "source": [
    "p_value"
   ]
  },
  {
   "cell_type": "code",
   "execution_count": 179,
   "id": "0305c327",
   "metadata": {},
   "outputs": [
    {
     "name": "stdout",
     "output_type": "stream",
     "text": [
      "Accept the null hypothesis\n"
     ]
    }
   ],
   "source": [
    "if p_value< alpha:\n",
    "    print(\"Reject the null hypothesis\")\n",
    "else:\n",
    "    print(\"Accept the null hypothesis\")"
   ]
  },
  {
   "cell_type": "code",
   "execution_count": null,
   "id": "9d7c03d3",
   "metadata": {},
   "outputs": [],
   "source": []
  },
  {
   "cell_type": "code",
   "execution_count": null,
   "id": "0a683398",
   "metadata": {},
   "outputs": [],
   "source": []
  }
 ],
 "metadata": {
  "kernelspec": {
   "display_name": "Python 3 (ipykernel)",
   "language": "python",
   "name": "python3"
  },
  "language_info": {
   "codemirror_mode": {
    "name": "ipython",
    "version": 3
   },
   "file_extension": ".py",
   "mimetype": "text/x-python",
   "name": "python",
   "nbconvert_exporter": "python",
   "pygments_lexer": "ipython3",
   "version": "3.9.12"
  }
 },
 "nbformat": 4,
 "nbformat_minor": 5
}
