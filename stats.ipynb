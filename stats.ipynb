{
 "cells": [
  {
   "cell_type": "code",
   "execution_count": 95,
   "id": "6874cdfc",
   "metadata": {},
   "outputs": [],
   "source": [
    "import pandas as pd\n",
    "import numpy as np\n",
    "import seaborn as sns\n",
    "from statistics import mode\n",
    "import scipy.stats as stats\n",
    "from numpy.random import randn\n",
    "from statsmodels.stats.weightstats import ztest\n",
    "import random"
   ]
  },
  {
   "cell_type": "code",
   "execution_count": 3,
   "id": "1e777073",
   "metadata": {},
   "outputs": [],
   "source": [
    "population = np.random.randint(10,20,50)"
   ]
  },
  {
   "cell_type": "code",
   "execution_count": 4,
   "id": "257485e0",
   "metadata": {},
   "outputs": [
    {
     "data": {
      "text/plain": [
       "array([12, 16, 10, 12, 17, 17, 18, 13, 19, 18, 15, 12, 13, 15, 17, 19, 17,\n",
       "       11, 18, 13, 11, 14, 14, 16, 12, 11, 15, 10, 14, 15, 17, 11, 12, 18,\n",
       "       10, 12, 11, 11, 16, 12, 19, 17, 15, 10, 11, 11, 13, 10, 19, 14])"
      ]
     },
     "execution_count": 4,
     "metadata": {},
     "output_type": "execute_result"
    }
   ],
   "source": [
    "population"
   ]
  },
  {
   "cell_type": "code",
   "execution_count": 5,
   "id": "e28f43c8",
   "metadata": {},
   "outputs": [
    {
     "data": {
      "text/plain": [
       "14.06"
      ]
     },
     "execution_count": 5,
     "metadata": {},
     "output_type": "execute_result"
    }
   ],
   "source": [
    "np.mean(population)"
   ]
  },
  {
   "cell_type": "code",
   "execution_count": 6,
   "id": "08d09e91",
   "metadata": {},
   "outputs": [
    {
     "data": {
      "text/plain": [
       "14.0"
      ]
     },
     "execution_count": 6,
     "metadata": {},
     "output_type": "execute_result"
    }
   ],
   "source": [
    "np.median(population)"
   ]
  },
  {
   "cell_type": "code",
   "execution_count": 7,
   "id": "ab1a14cf",
   "metadata": {},
   "outputs": [
    {
     "data": {
      "text/plain": [
       "11"
      ]
     },
     "execution_count": 7,
     "metadata": {},
     "output_type": "execute_result"
    }
   ],
   "source": [
    "mode(population)"
   ]
  },
  {
   "cell_type": "code",
   "execution_count": 8,
   "id": "f8e2b46b",
   "metadata": {},
   "outputs": [
    {
     "name": "stdout",
     "output_type": "stream",
     "text": [
      "Mean of the poopulation is 14.06\n",
      "Median of the poopulation is 14.0\n",
      "Mode of the poopulation is 11\n"
     ]
    }
   ],
   "source": [
    "print(f\"Mean of the poopulation is {np.mean(population)}\")\n",
    "print(f\"Median of the poopulation is {np.median(population)}\")\n",
    "print(f\"Mode of the poopulation is {mode(population)}\")"
   ]
  },
  {
   "cell_type": "code",
   "execution_count": 9,
   "id": "5ddd035f",
   "metadata": {},
   "outputs": [],
   "source": [
    "sample = np.random.choice(population,20)"
   ]
  },
  {
   "cell_type": "code",
   "execution_count": 10,
   "id": "6aedf25e",
   "metadata": {},
   "outputs": [
    {
     "name": "stdout",
     "output_type": "stream",
     "text": [
      "Mean of the poopulation is 14.1\n",
      "Median of the poopulation is 14.0\n",
      "Mode of the poopulation is 12\n"
     ]
    }
   ],
   "source": [
    "print(f\"Mean of the poopulation is {np.mean(sample)}\")\n",
    "print(f\"Median of the poopulation is {np.median(sample)}\")\n",
    "print(f\"Mode of the poopulation is {mode(sample)}\")"
   ]
  },
  {
   "cell_type": "code",
   "execution_count": 11,
   "id": "7b11eaca",
   "metadata": {},
   "outputs": [],
   "source": [
    "sample1 = np.random.choice(population,20)\n",
    "sample2 = np.random.choice(population,20)\n",
    "sample3 = np.random.choice(population,20)\n",
    "sample4 = np.random.choice(population,20)"
   ]
  },
  {
   "cell_type": "code",
   "execution_count": 12,
   "id": "d54609ee",
   "metadata": {},
   "outputs": [
    {
     "name": "stdout",
     "output_type": "stream",
     "text": [
      "[13 12 14 11 11 17 11 19 11 15 12 17 10 18 10 14 12 17 11 14]\n",
      "============================================================\n",
      "[13 11 17 12 17 11 14 12 13 15 12 11 13 11 19 10 17 17 13 12]\n",
      "============================================================\n",
      "[10 15 16 14 14 17 12 13 12 18 12 19 15 19 17 15 15 16 12 16]\n",
      "============================================================\n",
      "[13 12 17 11 15 17 12 10 19 18 11 17 13 18 15 17 16 18 12 15]\n"
     ]
    }
   ],
   "source": [
    "print(sample1)\n",
    "print(60*'=')\n",
    "print(sample2)\n",
    "print(60*'=')\n",
    "print(sample3)\n",
    "print(60*'=')\n",
    "print(sample4)"
   ]
  },
  {
   "cell_type": "code",
   "execution_count": 13,
   "id": "e88ba9fd",
   "metadata": {},
   "outputs": [],
   "source": [
    "mean_of_samples = []\n",
    "\n",
    "all_sample = [sample1,sample2,sample3,sample4]\n",
    "\n",
    "for sample in all_sample:\n",
    "    mean_of_samples.append(np.mean(sample))"
   ]
  },
  {
   "cell_type": "code",
   "execution_count": 14,
   "id": "10397034",
   "metadata": {},
   "outputs": [
    {
     "data": {
      "text/plain": [
       "[13.45, 13.5, 14.85, 14.8]"
      ]
     },
     "execution_count": 14,
     "metadata": {},
     "output_type": "execute_result"
    }
   ],
   "source": [
    "mean_of_samples"
   ]
  },
  {
   "cell_type": "markdown",
   "id": "62db28d6",
   "metadata": {},
   "source": [
    "## Central Limit Theorem\n"
   ]
  },
  {
   "cell_type": "code",
   "execution_count": 15,
   "id": "0f3cc5d4",
   "metadata": {},
   "outputs": [],
   "source": [
    "population = np.random.binomial(10.0,0.5,10000)"
   ]
  },
  {
   "cell_type": "code",
   "execution_count": 16,
   "id": "fe9f3b05",
   "metadata": {},
   "outputs": [
    {
     "name": "stdout",
     "output_type": "stream",
     "text": [
      "[6 5 5 ... 4 3 3]\n"
     ]
    }
   ],
   "source": [
    "print(population)"
   ]
  },
  {
   "cell_type": "code",
   "execution_count": 17,
   "id": "eea6855f",
   "metadata": {},
   "outputs": [
    {
     "data": {
      "text/plain": [
       "10000"
      ]
     },
     "execution_count": 17,
     "metadata": {},
     "output_type": "execute_result"
    }
   ],
   "source": [
    "len(population)"
   ]
  },
  {
   "cell_type": "code",
   "execution_count": 18,
   "id": "811b3697",
   "metadata": {},
   "outputs": [
    {
     "data": {
      "text/plain": [
       "<seaborn.axisgrid.FacetGrid at 0x7f84cacdbc10>"
      ]
     },
     "execution_count": 18,
     "metadata": {},
     "output_type": "execute_result"
    },
    {
     "data": {
      "image/png": "[encoded data removed]",
      "text/plain": [
       "<Figure size 360x360 with 1 Axes>"
      ]
     },
     "metadata": {
      "needs_background": "light"
     },
     "output_type": "display_data"
    }
   ],
   "source": [
    "sns.displot(population,kde=True)"
   ]
  },
  {
   "cell_type": "code",
   "execution_count": 19,
   "id": "262fcdf4",
   "metadata": {},
   "outputs": [
    {
     "data": {
      "text/plain": [
       "3000"
      ]
     },
     "execution_count": 19,
     "metadata": {},
     "output_type": "execute_result"
    }
   ],
   "source": [
    "int(len(population)*0.30)"
   ]
  },
  {
   "cell_type": "code",
   "execution_count": 20,
   "id": "c6f0f8eb",
   "metadata": {},
   "outputs": [],
   "source": [
    "size=int(len(population)*0.30)"
   ]
  },
  {
   "cell_type": "code",
   "execution_count": 21,
   "id": "b902bc0e",
   "metadata": {},
   "outputs": [],
   "source": [
    "sample_mean = []\n",
    "\n",
    "for i in range(1,31):\n",
    "    sample = np.random.choice(population,size=size)\n",
    "    sample_mean.append(np.mean(sample))"
   ]
  },
  {
   "cell_type": "code",
   "execution_count": 22,
   "id": "527aead9",
   "metadata": {},
   "outputs": [
    {
     "data": {
      "text/plain": [
       "[4.988,\n",
       " 5.015333333333333,\n",
       " 4.9783333333333335,\n",
       " 4.976,\n",
       " 5.011666666666667,\n",
       " 5.0023333333333335,\n",
       " 5.004666666666667,\n",
       " 4.978,\n",
       " 5.003333333333333,\n",
       " 5.014666666666667,\n",
       " 4.957,\n",
       " 4.982666666666667,\n",
       " 5.033666666666667,\n",
       " 5.048333333333333,\n",
       " 5.038,\n",
       " 4.964333333333333,\n",
       " 5.000333333333334,\n",
       " 4.976333333333334,\n",
       " 4.988333333333333,\n",
       " 5.0263333333333335,\n",
       " 5.01,\n",
       " 5.020666666666667,\n",
       " 4.949333333333334,\n",
       " 4.965333333333334,\n",
       " 4.977,\n",
       " 5.017333333333333,\n",
       " 4.991333333333333,\n",
       " 5.031333333333333,\n",
       " 4.976,\n",
       " 4.983666666666666]"
      ]
     },
     "execution_count": 22,
     "metadata": {},
     "output_type": "execute_result"
    }
   ],
   "source": [
    "sample_mean"
   ]
  },
  {
   "cell_type": "code",
   "execution_count": 23,
   "id": "c3cb7046",
   "metadata": {},
   "outputs": [
    {
     "name": "stderr",
     "output_type": "stream",
     "text": [
      "/Users/nikhilbadoni/opt/anaconda3/lib/python3.9/site-packages/seaborn/distributions.py:2619: FutureWarning: `distplot` is a deprecated function and will be removed in a future version. Please adapt your code to use either `displot` (a figure-level function with similar flexibility) or `histplot` (an axes-level function for histograms).\n",
      "  warnings.warn(msg, FutureWarning)\n"
     ]
    },
    {
     "data": {
      "text/plain": [
       "<AxesSubplot:ylabel='Density'>"
      ]
     },
     "execution_count": 23,
     "metadata": {},
     "output_type": "execute_result"
    },
    {
     "data": {
      "image/png": "[encoded data removed]",
      "text/plain": [
       "<Figure size 432x288 with 1 Axes>"
      ]
     },
     "metadata": {
      "needs_background": "light"
     },
     "output_type": "display_data"
    }
   ],
   "source": [
    "sns.distplot(sample_mean)"
   ]
  },
  {
   "cell_type": "code",
   "execution_count": 24,
   "id": "0288727b",
   "metadata": {},
   "outputs": [],
   "source": [
    "sample_mean = []\n",
    "\n",
    "for i in range(1,100):\n",
    "    sample = np.random.choice(population,size=size)\n",
    "    sample_mean.append(np.mean(sample))"
   ]
  },
  {
   "cell_type": "code",
   "execution_count": 25,
   "id": "f2a61b4a",
   "metadata": {},
   "outputs": [
    {
     "name": "stderr",
     "output_type": "stream",
     "text": [
      "/Users/nikhilbadoni/opt/anaconda3/lib/python3.9/site-packages/seaborn/distributions.py:2619: FutureWarning: `distplot` is a deprecated function and will be removed in a future version. Please adapt your code to use either `displot` (a figure-level function with similar flexibility) or `histplot` (an axes-level function for histograms).\n",
      "  warnings.warn(msg, FutureWarning)\n"
     ]
    },
    {
     "data": {
      "text/plain": [
       "<AxesSubplot:ylabel='Density'>"
      ]
     },
     "execution_count": 25,
     "metadata": {},
     "output_type": "execute_result"
    },
    {
     "data": {
      "image/png": "[encoded data removed]",
      "text/plain": [
       "<Figure size 432x288 with 1 Axes>"
      ]
     },
     "metadata": {
      "needs_background": "light"
     },
     "output_type": "display_data"
    }
   ],
   "source": [
    "sns.distplot(sample_mean)"
   ]
  },
  {
   "cell_type": "code",
   "execution_count": 26,
   "id": "c89fc3ce",
   "metadata": {},
   "outputs": [],
   "source": [
    "sample_mean = []\n",
    "\n",
    "for i in range(1,1000):\n",
    "    sample = np.random.choice(population,size=size)\n",
    "    sample_mean.append(np.mean(sample))"
   ]
  },
  {
   "cell_type": "code",
   "execution_count": 27,
   "id": "d30261c0",
   "metadata": {},
   "outputs": [
    {
     "name": "stderr",
     "output_type": "stream",
     "text": [
      "/Users/nikhilbadoni/opt/anaconda3/lib/python3.9/site-packages/seaborn/distributions.py:2619: FutureWarning: `distplot` is a deprecated function and will be removed in a future version. Please adapt your code to use either `displot` (a figure-level function with similar flexibility) or `histplot` (an axes-level function for histograms).\n",
      "  warnings.warn(msg, FutureWarning)\n"
     ]
    },
    {
     "data": {
      "text/plain": [
       "<AxesSubplot:ylabel='Density'>"
      ]
     },
     "execution_count": 27,
     "metadata": {},
     "output_type": "execute_result"
    },
    {
     "data": {
      "image/png": "[encoded data removed]",
      "text/plain": [
       "<Figure size 432x288 with 1 Axes>"
      ]
     },
     "metadata": {
      "needs_background": "light"
     },
     "output_type": "display_data"
    }
   ],
   "source": [
    "sns.distplot(sample_mean,kde=True,color='Red')"
   ]
  },
  {
   "cell_type": "code",
   "execution_count": 28,
   "id": "16bc2814",
   "metadata": {},
   "outputs": [
    {
     "data": {
      "text/plain": [
       "4.994154154154154"
      ]
     },
     "execution_count": 28,
     "metadata": {},
     "output_type": "execute_result"
    }
   ],
   "source": [
    "np.mean(sample_mean)"
   ]
  },
  {
   "cell_type": "markdown",
   "id": "fe8bf557",
   "metadata": {},
   "source": [
    "## Confidence Interval and Margin of Error"
   ]
  },
  {
   "cell_type": "code",
   "execution_count": 29,
   "id": "ae19d4d9",
   "metadata": {},
   "outputs": [],
   "source": [
    "population = np.random.randint(10,20,50)"
   ]
  },
  {
   "cell_type": "code",
   "execution_count": 30,
   "id": "79b6bf57",
   "metadata": {},
   "outputs": [
    {
     "data": {
      "text/plain": [
       "array([11, 12, 18, 18, 14, 17, 18, 19, 12, 10, 11, 11, 14, 18, 19, 15, 15,\n",
       "       18, 11, 18, 11, 19, 18, 18, 19, 10, 16, 13, 16, 14, 18, 15, 17, 16,\n",
       "       10, 15, 14, 19, 16, 15, 17, 18, 12, 19, 14, 17, 17, 14, 17, 17])"
      ]
     },
     "execution_count": 30,
     "metadata": {},
     "output_type": "execute_result"
    }
   ],
   "source": [
    "population"
   ]
  },
  {
   "cell_type": "code",
   "execution_count": 31,
   "id": "1c2c6ab1",
   "metadata": {},
   "outputs": [],
   "source": [
    "sample1 = np.random.choice(population,20)\n",
    "sample2 = np.random.choice(population,20)\n",
    "sample3 = np.random.choice(population,20)\n",
    "sample4 = np.random.choice(population,20)"
   ]
  },
  {
   "cell_type": "code",
   "execution_count": 32,
   "id": "767521a2",
   "metadata": {},
   "outputs": [],
   "source": [
    "mean_of_samples = []\n",
    "\n",
    "all_sample = [sample1,sample2,sample3,sample4]\n",
    "\n",
    "for sample in all_sample:\n",
    "    mean_of_samples.append(np.mean(sample))"
   ]
  },
  {
   "cell_type": "code",
   "execution_count": 33,
   "id": "69999dc6",
   "metadata": {},
   "outputs": [],
   "source": [
    "#stats.norm.ppf(q=0.95)"
   ]
  },
  {
   "cell_type": "code",
   "execution_count": 34,
   "id": "f4ba6822",
   "metadata": {},
   "outputs": [],
   "source": [
    "#stats.norm.ppf(q=0.975)"
   ]
  },
  {
   "cell_type": "code",
   "execution_count": 35,
   "id": "0c8b2857",
   "metadata": {},
   "outputs": [],
   "source": [
    "#stats.norm.ppf(q=0.99)"
   ]
  },
  {
   "cell_type": "code",
   "execution_count": 36,
   "id": "69125f3e",
   "metadata": {},
   "outputs": [],
   "source": [
    "z_crititcal = stats.norm.ppf(q=0.975)"
   ]
  },
  {
   "cell_type": "code",
   "execution_count": 37,
   "id": "0a65b48f",
   "metadata": {},
   "outputs": [],
   "source": [
    "t_critical = stats.t.ppf(q=0.975,df=24)"
   ]
  },
  {
   "cell_type": "code",
   "execution_count": 38,
   "id": "d33b1e12",
   "metadata": {},
   "outputs": [],
   "source": [
    "margin_of_error = z_crititcal * (np.std(mean_of_samples)/np.sqrt(20))"
   ]
  },
  {
   "cell_type": "code",
   "execution_count": 39,
   "id": "e1825be7",
   "metadata": {},
   "outputs": [
    {
     "data": {
      "text/plain": [
       "15.252845397087412"
      ]
     },
     "execution_count": 39,
     "metadata": {},
     "output_type": "execute_result"
    }
   ],
   "source": [
    "np.mean(mean_of_samples) - margin_of_error"
   ]
  },
  {
   "cell_type": "code",
   "execution_count": 40,
   "id": "d9ba399d",
   "metadata": {},
   "outputs": [
    {
     "data": {
      "text/plain": [
       "15.797154602912588"
      ]
     },
     "execution_count": 40,
     "metadata": {},
     "output_type": "execute_result"
    }
   ],
   "source": [
    "np.mean(mean_of_samples) + margin_of_error"
   ]
  },
  {
   "cell_type": "markdown",
   "id": "20408791",
   "metadata": {},
   "source": [
    "## Z - TEST"
   ]
  },
  {
   "cell_type": "code",
   "execution_count": 41,
   "id": "d32318bb",
   "metadata": {},
   "outputs": [],
   "source": [
    "population = randn(100)"
   ]
  },
  {
   "cell_type": "code",
   "execution_count": 42,
   "id": "cf0e3590",
   "metadata": {},
   "outputs": [
    {
     "data": {
      "text/plain": [
       "array([-0.70719505, -0.99951274,  0.05626859, -1.29048195, -0.06693348,\n",
       "        1.38734527,  0.8883255 ,  1.97297434,  0.19915862,  1.2179737 ,\n",
       "        1.66682359,  1.59561167,  1.63828336,  1.33682211,  1.4392962 ,\n",
       "        1.58115919, -1.49520622,  0.40859929,  0.91873556,  0.72600413,\n",
       "       -0.60929182, -0.38060976, -0.75555598,  0.12844373, -0.3928686 ,\n",
       "        0.57528631, -0.39272937, -0.46061506,  0.62832477,  0.87455631,\n",
       "        0.00512434,  0.6587169 ,  1.10046257, -0.73699189, -1.45977202,\n",
       "       -1.19655082,  1.02287835,  0.41845713,  0.79259382, -0.2611483 ,\n",
       "        0.46451034,  0.98627966, -1.23340457, -1.32001483, -1.0959021 ,\n",
       "        1.59770967,  1.68987393, -0.99042911,  0.44644437, -0.36969782,\n",
       "        0.30199239, -0.25954017, -0.68993578,  0.31508507,  1.00450281,\n",
       "       -1.621356  , -0.67387959, -0.78244568, -0.14411502, -0.50180035,\n",
       "       -0.13318932, -1.20804157,  1.13509701, -1.57608569,  0.54731849,\n",
       "        0.57247406,  0.03770571,  0.74251887, -1.55549495,  0.31882054,\n",
       "       -0.61460435, -0.58783781, -0.98937907, -0.13923037, -1.19683449,\n",
       "       -0.5056268 ,  0.19789667, -2.19343536, -0.36326453, -1.42291799,\n",
       "       -0.57475483,  0.76725734,  0.33910548,  0.05641932, -0.92830685,\n",
       "       -0.68603221,  0.49126291, -0.35048651, -0.29335874, -0.47777625,\n",
       "       -1.37076248, -1.65986113,  0.52985392,  1.03857286, -0.12564074,\n",
       "        1.27614074,  0.89589285, -0.50320594,  1.13312723, -1.91189131])"
      ]
     },
     "execution_count": 42,
     "metadata": {},
     "output_type": "execute_result"
    }
   ],
   "source": [
    "population"
   ]
  },
  {
   "cell_type": "code",
   "execution_count": 43,
   "id": "216440f5",
   "metadata": {},
   "outputs": [
    {
     "name": "stderr",
     "output_type": "stream",
     "text": [
      "/Users/nikhilbadoni/opt/anaconda3/lib/python3.9/site-packages/seaborn/distributions.py:2619: FutureWarning: `distplot` is a deprecated function and will be removed in a future version. Please adapt your code to use either `displot` (a figure-level function with similar flexibility) or `histplot` (an axes-level function for histograms).\n",
      "  warnings.warn(msg, FutureWarning)\n"
     ]
    },
    {
     "data": {
      "text/plain": [
       "<AxesSubplot:ylabel='Density'>"
      ]
     },
     "execution_count": 43,
     "metadata": {},
     "output_type": "execute_result"
    },
    {
     "data": {
      "image/png": "[encoded data removed]",
      "text/plain": [
       "<Figure size 432x288 with 1 Axes>"
      ]
     },
     "metadata": {
      "needs_background": "light"
     },
     "output_type": "display_data"
    }
   ],
   "source": [
    "sns.distplot(population)"
   ]
  },
  {
   "cell_type": "code",
   "execution_count": 44,
   "id": "3a0974a3",
   "metadata": {},
   "outputs": [
    {
     "name": "stdout",
     "output_type": "stream",
     "text": [
      "Mean of Population -0.021319157787969986, Standard Deviaition of Population 0.9711747251597571\n"
     ]
    }
   ],
   "source": [
    "print(f\"Mean of Population {np.mean(population)}, Standard Deviaition of Population {np.std(population)}\")"
   ]
  },
  {
   "cell_type": "code",
   "execution_count": 45,
   "id": "9c653956",
   "metadata": {},
   "outputs": [],
   "source": [
    "null_mean=0.012"
   ]
  },
  {
   "cell_type": "code",
   "execution_count": 47,
   "id": "33ec8263",
   "metadata": {},
   "outputs": [],
   "source": [
    "C.I = 95%\n",
    "ALPHA = 0.05 (5%)"
   ]
  },
  {
   "cell_type": "code",
   "execution_count": 181,
   "id": "0ab97e83",
   "metadata": {},
   "outputs": [],
   "source": [
    "P<=0.05 #REJECT NULL HYPOTHESIS\n",
    "P>0.05 #ACCEPT THE NULL HYPOTHESIS "
   ]
  },
  {
   "cell_type": "code",
   "execution_count": 180,
   "id": "44d0bace",
   "metadata": {},
   "outputs": [],
   "source": [
    "P<= ALPHA\n",
    "P> ALPHA"
   ]
  },
  {
   "cell_type": "code",
   "execution_count": 48,
   "id": "c5a925e7",
   "metadata": {},
   "outputs": [],
   "source": [
    "\n",
    "alpha = 0.05"
   ]
  },
  {
   "cell_type": "code",
   "execution_count": 49,
   "id": "f8ee9661",
   "metadata": {},
   "outputs": [],
   "source": [
    "z_score,p_value= ztest(population,value=null_mean,alternative='larger')"
   ]
  },
  {
   "cell_type": "code",
   "execution_count": 50,
   "id": "d9272f54",
   "metadata": {},
   "outputs": [
    {
     "data": {
      "text/plain": [
       "0.6335841846916392"
      ]
     },
     "execution_count": 50,
     "metadata": {},
     "output_type": "execute_result"
    }
   ],
   "source": [
    "p_value"
   ]
  },
  {
   "cell_type": "code",
   "execution_count": 51,
   "id": "0305c327",
   "metadata": {},
   "outputs": [
    {
     "name": "stdout",
     "output_type": "stream",
     "text": [
      "Accept the null hypothesis\n"
     ]
    }
   ],
   "source": [
    "if p_value< alpha:\n",
    "    print(\"Reject the null hypothesis\")\n",
    "else:\n",
    "    print(\"Accept the null hypothesis\")"
   ]
  },
  {
   "cell_type": "markdown",
   "id": "8da7d68a",
   "metadata": {},
   "source": [
    "# How to Check Normality of Data"
   ]
  },
  {
   "cell_type": "code",
   "execution_count": 54,
   "id": "0a683398",
   "metadata": {},
   "outputs": [],
   "source": [
    "data = pd.read_csv(\"https://raw.githubusercontent.com/shrikant-temburwar/Wine-Quality-Dataset/master/winequality-red.csv\",sep=';')"
   ]
  },
  {
   "cell_type": "code",
   "execution_count": 56,
   "id": "688586f1",
   "metadata": {},
   "outputs": [
    {
     "data": {
      "text/html": [
       "<div>\n",
       "<style scoped>\n",
       "    .dataframe tbody tr th:only-of-type {\n",
       "        vertical-align: middle;\n",
       "    }\n",
       "\n",
       "    .dataframe tbody tr th {\n",
       "        vertical-align: top;\n",
       "    }\n",
       "\n",
       "    .dataframe thead th {\n",
       "        text-align: right;\n",
       "    }\n",
       "</style>\n",
       "<table border=\"1\" class=\"dataframe\">\n",
       "  <thead>\n",
       "    <tr style=\"text-align: right;\">\n",
       "      <th></th>\n",
       "      <th>fixed acidity</th>\n",
       "      <th>volatile acidity</th>\n",
       "      <th>citric acid</th>\n",
       "      <th>residual sugar</th>\n",
       "      <th>chlorides</th>\n",
       "      <th>free sulfur dioxide</th>\n",
       "      <th>total sulfur dioxide</th>\n",
       "      <th>density</th>\n",
       "      <th>pH</th>\n",
       "      <th>sulphates</th>\n",
       "      <th>alcohol</th>\n",
       "      <th>quality</th>\n",
       "    </tr>\n",
       "  </thead>\n",
       "  <tbody>\n",
       "    <tr>\n",
       "      <th>0</th>\n",
       "      <td>7.4</td>\n",
       "      <td>0.70</td>\n",
       "      <td>0.00</td>\n",
       "      <td>1.9</td>\n",
       "      <td>0.076</td>\n",
       "      <td>11.0</td>\n",
       "      <td>34.0</td>\n",
       "      <td>0.9978</td>\n",
       "      <td>3.51</td>\n",
       "      <td>0.56</td>\n",
       "      <td>9.4</td>\n",
       "      <td>5</td>\n",
       "    </tr>\n",
       "    <tr>\n",
       "      <th>1</th>\n",
       "      <td>7.8</td>\n",
       "      <td>0.88</td>\n",
       "      <td>0.00</td>\n",
       "      <td>2.6</td>\n",
       "      <td>0.098</td>\n",
       "      <td>25.0</td>\n",
       "      <td>67.0</td>\n",
       "      <td>0.9968</td>\n",
       "      <td>3.20</td>\n",
       "      <td>0.68</td>\n",
       "      <td>9.8</td>\n",
       "      <td>5</td>\n",
       "    </tr>\n",
       "    <tr>\n",
       "      <th>2</th>\n",
       "      <td>7.8</td>\n",
       "      <td>0.76</td>\n",
       "      <td>0.04</td>\n",
       "      <td>2.3</td>\n",
       "      <td>0.092</td>\n",
       "      <td>15.0</td>\n",
       "      <td>54.0</td>\n",
       "      <td>0.9970</td>\n",
       "      <td>3.26</td>\n",
       "      <td>0.65</td>\n",
       "      <td>9.8</td>\n",
       "      <td>5</td>\n",
       "    </tr>\n",
       "    <tr>\n",
       "      <th>3</th>\n",
       "      <td>11.2</td>\n",
       "      <td>0.28</td>\n",
       "      <td>0.56</td>\n",
       "      <td>1.9</td>\n",
       "      <td>0.075</td>\n",
       "      <td>17.0</td>\n",
       "      <td>60.0</td>\n",
       "      <td>0.9980</td>\n",
       "      <td>3.16</td>\n",
       "      <td>0.58</td>\n",
       "      <td>9.8</td>\n",
       "      <td>6</td>\n",
       "    </tr>\n",
       "    <tr>\n",
       "      <th>4</th>\n",
       "      <td>7.4</td>\n",
       "      <td>0.70</td>\n",
       "      <td>0.00</td>\n",
       "      <td>1.9</td>\n",
       "      <td>0.076</td>\n",
       "      <td>11.0</td>\n",
       "      <td>34.0</td>\n",
       "      <td>0.9978</td>\n",
       "      <td>3.51</td>\n",
       "      <td>0.56</td>\n",
       "      <td>9.4</td>\n",
       "      <td>5</td>\n",
       "    </tr>\n",
       "  </tbody>\n",
       "</table>\n",
       "</div>"
      ],
      "text/plain": [
       "   fixed acidity  volatile acidity  citric acid  residual sugar  chlorides  \\\n",
       "0            7.4              0.70         0.00             1.9      0.076   \n",
       "1            7.8              0.88         0.00             2.6      0.098   \n",
       "2            7.8              0.76         0.04             2.3      0.092   \n",
       "3           11.2              0.28         0.56             1.9      0.075   \n",
       "4            7.4              0.70         0.00             1.9      0.076   \n",
       "\n",
       "   free sulfur dioxide  total sulfur dioxide  density    pH  sulphates  \\\n",
       "0                 11.0                  34.0   0.9978  3.51       0.56   \n",
       "1                 25.0                  67.0   0.9968  3.20       0.68   \n",
       "2                 15.0                  54.0   0.9970  3.26       0.65   \n",
       "3                 17.0                  60.0   0.9980  3.16       0.58   \n",
       "4                 11.0                  34.0   0.9978  3.51       0.56   \n",
       "\n",
       "   alcohol  quality  \n",
       "0      9.4        5  \n",
       "1      9.8        5  \n",
       "2      9.8        5  \n",
       "3      9.8        6  \n",
       "4      9.4        5  "
      ]
     },
     "execution_count": 56,
     "metadata": {},
     "output_type": "execute_result"
    }
   ],
   "source": [
    "data.head()"
   ]
  },
  {
   "cell_type": "code",
   "execution_count": 57,
   "id": "92820a1a",
   "metadata": {},
   "outputs": [
    {
     "data": {
      "text/plain": [
       "0       0.700\n",
       "1       0.880\n",
       "2       0.760\n",
       "3       0.280\n",
       "4       0.700\n",
       "        ...  \n",
       "1594    0.600\n",
       "1595    0.550\n",
       "1596    0.510\n",
       "1597    0.645\n",
       "1598    0.310\n",
       "Name: volatile acidity, Length: 1599, dtype: float64"
      ]
     },
     "execution_count": 57,
     "metadata": {},
     "output_type": "execute_result"
    }
   ],
   "source": [
    "data['volatile acidity']"
   ]
  },
  {
   "cell_type": "code",
   "execution_count": 59,
   "id": "bf27db6a",
   "metadata": {},
   "outputs": [
    {
     "name": "stderr",
     "output_type": "stream",
     "text": [
      "/Users/nikhilbadoni/opt/anaconda3/lib/python3.9/site-packages/seaborn/distributions.py:2619: FutureWarning: `distplot` is a deprecated function and will be removed in a future version. Please adapt your code to use either `displot` (a figure-level function with similar flexibility) or `histplot` (an axes-level function for histograms).\n",
      "  warnings.warn(msg, FutureWarning)\n"
     ]
    },
    {
     "data": {
      "text/plain": [
       "<AxesSubplot:xlabel='volatile acidity', ylabel='Density'>"
      ]
     },
     "execution_count": 59,
     "metadata": {},
     "output_type": "execute_result"
    },
    {
     "data": {
      "image/png": "[encoded data removed]",
      "text/plain": [
       "<Figure size 432x288 with 1 Axes>"
      ]
     },
     "metadata": {
      "needs_background": "light"
     },
     "output_type": "display_data"
    }
   ],
   "source": [
    "sns.distplot(data['volatile acidity'],kde = True)"
   ]
  },
  {
   "cell_type": "code",
   "execution_count": 61,
   "id": "ea711c07",
   "metadata": {},
   "outputs": [
    {
     "name": "stderr",
     "output_type": "stream",
     "text": [
      "/Users/nikhilbadoni/opt/anaconda3/lib/python3.9/site-packages/seaborn/distributions.py:2619: FutureWarning: `distplot` is a deprecated function and will be removed in a future version. Please adapt your code to use either `displot` (a figure-level function with similar flexibility) or `histplot` (an axes-level function for histograms).\n",
      "  warnings.warn(msg, FutureWarning)\n"
     ]
    },
    {
     "data": {
      "text/plain": [
       "<AxesSubplot:xlabel='citric acid', ylabel='Density'>"
      ]
     },
     "execution_count": 61,
     "metadata": {},
     "output_type": "execute_result"
    },
    {
     "data": {
      "image/png": "[encoded data removed]",
      "text/plain": [
       "<Figure size 432x288 with 1 Axes>"
      ]
     },
     "metadata": {
      "needs_background": "light"
     },
     "output_type": "display_data"
    }
   ],
   "source": [
    "sns.distplot(data['citric acid'],kde = True,color = 'red')"
   ]
  },
  {
   "cell_type": "markdown",
   "id": "122204fa",
   "metadata": {},
   "source": [
    "# Shapiro Wik Test (Used for Normality)"
   ]
  },
  {
   "cell_type": "code",
   "execution_count": 62,
   "id": "ff4199eb",
   "metadata": {},
   "outputs": [
    {
     "data": {
      "text/plain": [
       "ShapiroResult(statistic=0.9743340611457825, pvalue=2.686806772838566e-16)"
      ]
     },
     "execution_count": 62,
     "metadata": {},
     "output_type": "execute_result"
    }
   ],
   "source": [
    "stats.shapiro(data['volatile acidity'])"
   ]
  },
  {
   "cell_type": "code",
   "execution_count": 63,
   "id": "a867890c",
   "metadata": {},
   "outputs": [
    {
     "data": {
      "text/plain": [
       "ShapiroResult(statistic=0.9552900195121765, pvalue=1.0208196357632134e-21)"
      ]
     },
     "execution_count": 63,
     "metadata": {},
     "output_type": "execute_result"
    }
   ],
   "source": [
    "stats.shapiro(data['citric acid'])"
   ]
  },
  {
   "cell_type": "code",
   "execution_count": 67,
   "id": "10682e1f",
   "metadata": {},
   "outputs": [],
   "source": [
    "my_data = randn(500)"
   ]
  },
  {
   "cell_type": "code",
   "execution_count": 68,
   "id": "f8ed9004",
   "metadata": {},
   "outputs": [
    {
     "name": "stderr",
     "output_type": "stream",
     "text": [
      "/Users/nikhilbadoni/opt/anaconda3/lib/python3.9/site-packages/seaborn/distributions.py:2619: FutureWarning: `distplot` is a deprecated function and will be removed in a future version. Please adapt your code to use either `displot` (a figure-level function with similar flexibility) or `histplot` (an axes-level function for histograms).\n",
      "  warnings.warn(msg, FutureWarning)\n"
     ]
    },
    {
     "data": {
      "text/plain": [
       "<AxesSubplot:ylabel='Density'>"
      ]
     },
     "execution_count": 68,
     "metadata": {},
     "output_type": "execute_result"
    },
    {
     "data": {
      "image/png": "[encoded data removed]",
      "text/plain": [
       "<Figure size 432x288 with 1 Axes>"
      ]
     },
     "metadata": {
      "needs_background": "light"
     },
     "output_type": "display_data"
    }
   ],
   "source": [
    "sns.distplot(my_data)"
   ]
  },
  {
   "cell_type": "code",
   "execution_count": 70,
   "id": "35704f34",
   "metadata": {},
   "outputs": [],
   "source": [
    "result = stats.shapiro(my_data)"
   ]
  },
  {
   "cell_type": "markdown",
   "id": "16a7a098",
   "metadata": {},
   "source": [
    "# What is my null hypothesis?\n",
    "# null hypothesis that my data was drawn from a normal distribution"
   ]
  },
  {
   "cell_type": "code",
   "execution_count": 72,
   "id": "f08b99b1",
   "metadata": {},
   "outputs": [],
   "source": [
    "if pvalue<= result[1]:\n",
    "    print(\"Reject null hypothesis\")\n",
    "else:\n",
    "    print(\"Accept null hypotheis\")"
   ]
  },
  {
   "cell_type": "code",
   "execution_count": 76,
   "id": "6b5309bf",
   "metadata": {},
   "outputs": [
    {
     "data": {
      "text/plain": [
       "NormaltestResult(statistic=152.039214793795, pvalue=9.662822259281018e-34)"
      ]
     },
     "execution_count": 76,
     "metadata": {},
     "output_type": "execute_result"
    }
   ],
   "source": [
    "# Normal Test\n",
    "stats.normaltest(data['citric acid'])"
   ]
  },
  {
   "cell_type": "code",
   "execution_count": 77,
   "id": "d73a23aa",
   "metadata": {},
   "outputs": [
    {
     "data": {
      "text/plain": [
       "NormaltestResult(statistic=4.733769104855787, pvalue=0.09377241471386714)"
      ]
     },
     "execution_count": 77,
     "metadata": {},
     "output_type": "execute_result"
    }
   ],
   "source": [
    "stats.normaltest(my_data)"
   ]
  },
  {
   "cell_type": "code",
   "execution_count": null,
   "id": "0371b5a1",
   "metadata": {},
   "outputs": [],
   "source": [
    "sample_mean_iq = 110\n",
    "alpha = 0.05\n",
    "ci = 95%\n"
   ]
  },
  {
   "cell_type": "code",
   "execution_count": 79,
   "id": "d3d9fb78",
   "metadata": {},
   "outputs": [],
   "source": [
    "mean_std_dev = 15\n",
    "mean_population = 100"
   ]
  },
  {
   "cell_type": "code",
   "execution_count": 81,
   "id": "3911dcf3",
   "metadata": {},
   "outputs": [],
   "source": [
    "data1 = mean_std_dev*randn(50) + mean_population "
   ]
  },
  {
   "cell_type": "code",
   "execution_count": 82,
   "id": "5385b846",
   "metadata": {},
   "outputs": [
    {
     "data": {
      "text/plain": [
       "99.1002623627378"
      ]
     },
     "execution_count": 82,
     "metadata": {},
     "output_type": "execute_result"
    }
   ],
   "source": [
    "np.mean(data1)"
   ]
  },
  {
   "cell_type": "code",
   "execution_count": 83,
   "id": "f11cc599",
   "metadata": {},
   "outputs": [
    {
     "data": {
      "text/plain": [
       "15.196200625124568"
      ]
     },
     "execution_count": 83,
     "metadata": {},
     "output_type": "execute_result"
    }
   ],
   "source": [
    "np.std(data1)"
   ]
  },
  {
   "cell_type": "code",
   "execution_count": 93,
   "id": "30fee2cf",
   "metadata": {},
   "outputs": [],
   "source": [
    "null_value = 115"
   ]
  },
  {
   "cell_type": "code",
   "execution_count": 94,
   "id": "016a567f",
   "metadata": {},
   "outputs": [
    {
     "data": {
      "text/plain": [
       "(-7.324078314471653, 0.9999999999998798)"
      ]
     },
     "execution_count": 94,
     "metadata": {},
     "output_type": "execute_result"
    }
   ],
   "source": [
    "ztest(data1, value= null_value,alternative='larger')"
   ]
  },
  {
   "cell_type": "markdown",
   "id": "a57d9d9a",
   "metadata": {},
   "source": [
    "# T Test"
   ]
  },
  {
   "cell_type": "markdown",
   "id": "5feb1e2a",
   "metadata": {},
   "source": [
    "- one- sample t test(with respect to one independent variable)\n",
    "- two- sample t test(with respect to two independent variable)\n",
    "- paired t test(two sample from the sample populationon different time interval)"
   ]
  },
  {
   "cell_type": "code",
   "execution_count": 98,
   "id": "5d030594",
   "metadata": {},
   "outputs": [],
   "source": [
    "population = np.random.randint(10,50,50)"
   ]
  },
  {
   "cell_type": "code",
   "execution_count": 102,
   "id": "498478b0",
   "metadata": {},
   "outputs": [],
   "source": [
    "sample1 = np.random.choice(population,20)"
   ]
  },
  {
   "cell_type": "code",
   "execution_count": 101,
   "id": "9a32290d",
   "metadata": {},
   "outputs": [],
   "source": [
    "sample2 = np.random.choice(population,20)"
   ]
  },
  {
   "cell_type": "code",
   "execution_count": 108,
   "id": "0de2e218",
   "metadata": {},
   "outputs": [
    {
     "data": {
      "text/plain": [
       "array([32, 40, 32, 21, 28, 28, 13, 32, 38, 40, 10, 24, 21, 18, 32, 25, 32,\n",
       "       15, 32, 44])"
      ]
     },
     "execution_count": 108,
     "metadata": {},
     "output_type": "execute_result"
    }
   ],
   "source": [
    "sample1"
   ]
  },
  {
   "cell_type": "code",
   "execution_count": 106,
   "id": "abe01c96",
   "metadata": {},
   "outputs": [
    {
     "data": {
      "text/plain": [
       "27.85"
      ]
     },
     "execution_count": 106,
     "metadata": {},
     "output_type": "execute_result"
    }
   ],
   "source": [
    "sample1.mean()"
   ]
  },
  {
   "cell_type": "code",
   "execution_count": 107,
   "id": "69cbd1e4",
   "metadata": {},
   "outputs": [
    {
     "data": {
      "text/plain": [
       "30.55"
      ]
     },
     "execution_count": 107,
     "metadata": {},
     "output_type": "execute_result"
    }
   ],
   "source": [
    "sample2.mean()"
   ]
  },
  {
   "cell_type": "code",
   "execution_count": 110,
   "id": "74cb28f5",
   "metadata": {
    "scrolled": true
   },
   "outputs": [
    {
     "data": {
      "text/plain": [
       "array([18, 32, 25, 18, 19, 20, 29, 38, 27, 38, 41, 38, 32, 38, 19, 29, 34,\n",
       "       42, 28, 46])"
      ]
     },
     "execution_count": 110,
     "metadata": {},
     "output_type": "execute_result"
    }
   ],
   "source": [
    "sample2"
   ]
  },
  {
   "cell_type": "markdown",
   "id": "53a6e518",
   "metadata": {},
   "source": [
    "# Null Hypothesis is sample mean should be 27.85\n"
   ]
  },
  {
   "cell_type": "code",
   "execution_count": 109,
   "id": "92863b7e",
   "metadata": {},
   "outputs": [],
   "source": [
    "my_cricket_score = [32, 40, 32, 21, 28, 28, 13, 32, 38, 40, 10, 24, 21, 18, 32, 25, 32,15, 32, 44]"
   ]
  },
  {
   "cell_type": "code",
   "execution_count": 112,
   "id": "a4038b6e",
   "metadata": {},
   "outputs": [],
   "source": [
    "virat_cricket_score = [45, 32, 25, 46, 30, 20, 49, 38, 27, 38, 41, 38, 32, 38, 40, 29, 34,42, 28, 46]"
   ]
  },
  {
   "cell_type": "code",
   "execution_count": 113,
   "id": "26879c8b",
   "metadata": {},
   "outputs": [
    {
     "data": {
      "text/plain": [
       "35.9"
      ]
     },
     "execution_count": 113,
     "metadata": {},
     "output_type": "execute_result"
    }
   ],
   "source": [
    "sum(virat_cricket_score)/len(virat_cricket_score)"
   ]
  },
  {
   "cell_type": "code",
   "execution_count": 114,
   "id": "9446dcd0",
   "metadata": {},
   "outputs": [
    {
     "data": {
      "text/plain": [
       "35.9"
      ]
     },
     "execution_count": 114,
     "metadata": {},
     "output_type": "execute_result"
    }
   ],
   "source": [
    "np.mean(virat_cricket_score)"
   ]
  },
  {
   "cell_type": "code",
   "execution_count": 115,
   "id": "6e46c888",
   "metadata": {},
   "outputs": [
    {
     "data": {
      "text/plain": [
       "27.85"
      ]
     },
     "execution_count": 115,
     "metadata": {},
     "output_type": "execute_result"
    }
   ],
   "source": [
    "np.mean(my_cricket_score)"
   ]
  },
  {
   "cell_type": "code",
   "execution_count": 121,
   "id": "1176bcef",
   "metadata": {},
   "outputs": [],
   "source": [
    "result = stats.ttest_1samp(my_cricket_score,15) "
   ]
  },
  {
   "cell_type": "markdown",
   "id": "360ad430",
   "metadata": {},
   "source": [
    "# Z - Test vs T - Test\n",
    "- sample size less than 30 in t test\n",
    "- pop std and pop var won't be there in t test\n"
   ]
  },
  {
   "cell_type": "code",
   "execution_count": 123,
   "id": "522922fd",
   "metadata": {},
   "outputs": [
    {
     "data": {
      "text/plain": [
       "7.108882046507118e-06"
      ]
     },
     "execution_count": 123,
     "metadata": {},
     "output_type": "execute_result"
    }
   ],
   "source": [
    "result[1]"
   ]
  },
  {
   "cell_type": "markdown",
   "id": "fd319cc7",
   "metadata": {},
   "source": [
    "pvalue <= 0.05 to reject null hypothesis\n",
    "pvalue > 0.05 to accept the null hypothesis"
   ]
  },
  {
   "cell_type": "code",
   "execution_count": 124,
   "id": "1ddfdc3b",
   "metadata": {},
   "outputs": [
    {
     "data": {
      "text/plain": [
       "Ttest_1sampResult(statistic=0.4041894792106536, pvalue=0.6905868735942438)"
      ]
     },
     "execution_count": 124,
     "metadata": {},
     "output_type": "execute_result"
    }
   ],
   "source": [
    "stats.ttest_1samp(my_cricket_score,27)"
   ]
  },
  {
   "cell_type": "markdown",
   "id": "ba93261b",
   "metadata": {},
   "source": [
    "# two- sample t test(with respect to two independent variable)"
   ]
  },
  {
   "cell_type": "code",
   "execution_count": 137,
   "id": "b0b088c1",
   "metadata": {},
   "outputs": [],
   "source": [
    "\n",
    "my_cricket_score = [32, 40, 32, 21, 28, 28, 13, 32, 38, 40, 10, 24, 21, 18, 32, 25, 32,15, 32, 44]\n",
    "virat_cricket_score = [45, 32, 25, 46, 30, 20, 49, 38, 44, 38, 41, 38, 32, 38, 40, 49, 34,42, 28, 46]"
   ]
  },
  {
   "cell_type": "code",
   "execution_count": 138,
   "id": "4bf49577",
   "metadata": {},
   "outputs": [],
   "source": [
    "first_sample_mean= np.mean(my_cricket_score)\n",
    "second_sample_mean=np.mean(virat_cricket_score)"
   ]
  },
  {
   "cell_type": "code",
   "execution_count": 139,
   "id": "b572fb0a",
   "metadata": {},
   "outputs": [
    {
     "name": "stdout",
     "output_type": "stream",
     "text": [
      "27.85\n",
      "37.75\n"
     ]
    }
   ],
   "source": [
    "print(first_sample_mean)\n",
    "print(second_sample_mean)"
   ]
  },
  {
   "cell_type": "code",
   "execution_count": 140,
   "id": "89d5d582",
   "metadata": {},
   "outputs": [],
   "source": [
    "# my_null_hypothesis = both sample mean will be same"
   ]
  },
  {
   "cell_type": "code",
   "execution_count": 141,
   "id": "c9d95354",
   "metadata": {},
   "outputs": [
    {
     "data": {
      "text/plain": [
       "Ttest_indResult(statistic=-3.5785524855102744, pvalue=0.0009639471571582998)"
      ]
     },
     "execution_count": 141,
     "metadata": {},
     "output_type": "execute_result"
    }
   ],
   "source": [
    "stats.ttest_ind(my_cricket_score,virat_cricket_score)"
   ]
  },
  {
   "cell_type": "markdown",
   "id": "ff32c5c5",
   "metadata": {},
   "source": [
    "# paired t test(two sample from the sample populationon different time interval)"
   ]
  },
  {
   "cell_type": "code",
   "execution_count": 145,
   "id": "9902b106",
   "metadata": {},
   "outputs": [],
   "source": [
    "my_cricket_score_from_first_inning = [32, 40, 32, 21, 28, 28, 13, 32, 38, 40, 10, 24, 21, 18, 32, 25, 32,15, 32, 44]\n",
    "my_cricket_score_from_second_inning = [32, 40, 32, 21, 28, 28, 19, 32, 38, 40, 45, 24, 40, 38, 32, 40, 32,16, 32, 44]"
   ]
  },
  {
   "cell_type": "code",
   "execution_count": 146,
   "id": "9c8b1ea3",
   "metadata": {},
   "outputs": [
    {
     "name": "stdout",
     "output_type": "stream",
     "text": [
      "27.85\n",
      "32.65\n"
     ]
    }
   ],
   "source": [
    "print(np.mean(my_cricket_score_from_first_inning))\n",
    "print(np.mean(my_cricket_score_from_second_inning))"
   ]
  },
  {
   "cell_type": "code",
   "execution_count": 147,
   "id": "ca247501",
   "metadata": {},
   "outputs": [
    {
     "data": {
      "text/plain": [
       "Ttest_relResult(statistic=-2.2133314637234, pvalue=0.03930898681461578)"
      ]
     },
     "execution_count": 147,
     "metadata": {},
     "output_type": "execute_result"
    }
   ],
   "source": [
    "stats.ttest_rel(my_cricket_score_from_first_inning,my_cricket_score_from_second_inning)"
   ]
  },
  {
   "cell_type": "markdown",
   "id": "e22b285c",
   "metadata": {},
   "source": [
    "# CHI SQUARE TEST"
   ]
  },
  {
   "cell_type": "code",
   "execution_count": 149,
   "id": "baf33138",
   "metadata": {},
   "outputs": [],
   "source": [
    "dataset = sns.load_dataset('tips')"
   ]
  },
  {
   "cell_type": "code",
   "execution_count": 150,
   "id": "d31ffc7f",
   "metadata": {},
   "outputs": [
    {
     "data": {
      "text/html": [
       "<div>\n",
       "<style scoped>\n",
       "    .dataframe tbody tr th:only-of-type {\n",
       "        vertical-align: middle;\n",
       "    }\n",
       "\n",
       "    .dataframe tbody tr th {\n",
       "        vertical-align: top;\n",
       "    }\n",
       "\n",
       "    .dataframe thead th {\n",
       "        text-align: right;\n",
       "    }\n",
       "</style>\n",
       "<table border=\"1\" class=\"dataframe\">\n",
       "  <thead>\n",
       "    <tr style=\"text-align: right;\">\n",
       "      <th></th>\n",
       "      <th>total_bill</th>\n",
       "      <th>tip</th>\n",
       "      <th>sex</th>\n",
       "      <th>smoker</th>\n",
       "      <th>day</th>\n",
       "      <th>time</th>\n",
       "      <th>size</th>\n",
       "    </tr>\n",
       "  </thead>\n",
       "  <tbody>\n",
       "    <tr>\n",
       "      <th>0</th>\n",
       "      <td>16.99</td>\n",
       "      <td>1.01</td>\n",
       "      <td>Female</td>\n",
       "      <td>No</td>\n",
       "      <td>Sun</td>\n",
       "      <td>Dinner</td>\n",
       "      <td>2</td>\n",
       "    </tr>\n",
       "    <tr>\n",
       "      <th>1</th>\n",
       "      <td>10.34</td>\n",
       "      <td>1.66</td>\n",
       "      <td>Male</td>\n",
       "      <td>No</td>\n",
       "      <td>Sun</td>\n",
       "      <td>Dinner</td>\n",
       "      <td>3</td>\n",
       "    </tr>\n",
       "    <tr>\n",
       "      <th>2</th>\n",
       "      <td>21.01</td>\n",
       "      <td>3.50</td>\n",
       "      <td>Male</td>\n",
       "      <td>No</td>\n",
       "      <td>Sun</td>\n",
       "      <td>Dinner</td>\n",
       "      <td>3</td>\n",
       "    </tr>\n",
       "    <tr>\n",
       "      <th>3</th>\n",
       "      <td>23.68</td>\n",
       "      <td>3.31</td>\n",
       "      <td>Male</td>\n",
       "      <td>No</td>\n",
       "      <td>Sun</td>\n",
       "      <td>Dinner</td>\n",
       "      <td>2</td>\n",
       "    </tr>\n",
       "    <tr>\n",
       "      <th>4</th>\n",
       "      <td>24.59</td>\n",
       "      <td>3.61</td>\n",
       "      <td>Female</td>\n",
       "      <td>No</td>\n",
       "      <td>Sun</td>\n",
       "      <td>Dinner</td>\n",
       "      <td>4</td>\n",
       "    </tr>\n",
       "    <tr>\n",
       "      <th>...</th>\n",
       "      <td>...</td>\n",
       "      <td>...</td>\n",
       "      <td>...</td>\n",
       "      <td>...</td>\n",
       "      <td>...</td>\n",
       "      <td>...</td>\n",
       "      <td>...</td>\n",
       "    </tr>\n",
       "    <tr>\n",
       "      <th>239</th>\n",
       "      <td>29.03</td>\n",
       "      <td>5.92</td>\n",
       "      <td>Male</td>\n",
       "      <td>No</td>\n",
       "      <td>Sat</td>\n",
       "      <td>Dinner</td>\n",
       "      <td>3</td>\n",
       "    </tr>\n",
       "    <tr>\n",
       "      <th>240</th>\n",
       "      <td>27.18</td>\n",
       "      <td>2.00</td>\n",
       "      <td>Female</td>\n",
       "      <td>Yes</td>\n",
       "      <td>Sat</td>\n",
       "      <td>Dinner</td>\n",
       "      <td>2</td>\n",
       "    </tr>\n",
       "    <tr>\n",
       "      <th>241</th>\n",
       "      <td>22.67</td>\n",
       "      <td>2.00</td>\n",
       "      <td>Male</td>\n",
       "      <td>Yes</td>\n",
       "      <td>Sat</td>\n",
       "      <td>Dinner</td>\n",
       "      <td>2</td>\n",
       "    </tr>\n",
       "    <tr>\n",
       "      <th>242</th>\n",
       "      <td>17.82</td>\n",
       "      <td>1.75</td>\n",
       "      <td>Male</td>\n",
       "      <td>No</td>\n",
       "      <td>Sat</td>\n",
       "      <td>Dinner</td>\n",
       "      <td>2</td>\n",
       "    </tr>\n",
       "    <tr>\n",
       "      <th>243</th>\n",
       "      <td>18.78</td>\n",
       "      <td>3.00</td>\n",
       "      <td>Female</td>\n",
       "      <td>No</td>\n",
       "      <td>Thur</td>\n",
       "      <td>Dinner</td>\n",
       "      <td>2</td>\n",
       "    </tr>\n",
       "  </tbody>\n",
       "</table>\n",
       "<p>244 rows × 7 columns</p>\n",
       "</div>"
      ],
      "text/plain": [
       "     total_bill   tip     sex smoker   day    time  size\n",
       "0         16.99  1.01  Female     No   Sun  Dinner     2\n",
       "1         10.34  1.66    Male     No   Sun  Dinner     3\n",
       "2         21.01  3.50    Male     No   Sun  Dinner     3\n",
       "3         23.68  3.31    Male     No   Sun  Dinner     2\n",
       "4         24.59  3.61  Female     No   Sun  Dinner     4\n",
       "..          ...   ...     ...    ...   ...     ...   ...\n",
       "239       29.03  5.92    Male     No   Sat  Dinner     3\n",
       "240       27.18  2.00  Female    Yes   Sat  Dinner     2\n",
       "241       22.67  2.00    Male    Yes   Sat  Dinner     2\n",
       "242       17.82  1.75    Male     No   Sat  Dinner     2\n",
       "243       18.78  3.00  Female     No  Thur  Dinner     2\n",
       "\n",
       "[244 rows x 7 columns]"
      ]
     },
     "execution_count": 150,
     "metadata": {},
     "output_type": "execute_result"
    }
   ],
   "source": [
    "dataset"
   ]
  },
  {
   "cell_type": "code",
   "execution_count": 151,
   "id": "87430549",
   "metadata": {},
   "outputs": [
    {
     "name": "stdout",
     "output_type": "stream",
     "text": [
      "<class 'pandas.core.frame.DataFrame'>\n",
      "RangeIndex: 244 entries, 0 to 243\n",
      "Data columns (total 7 columns):\n",
      " #   Column      Non-Null Count  Dtype   \n",
      "---  ------      --------------  -----   \n",
      " 0   total_bill  244 non-null    float64 \n",
      " 1   tip         244 non-null    float64 \n",
      " 2   sex         244 non-null    category\n",
      " 3   smoker      244 non-null    category\n",
      " 4   day         244 non-null    category\n",
      " 5   time        244 non-null    category\n",
      " 6   size        244 non-null    int64   \n",
      "dtypes: category(4), float64(2), int64(1)\n",
      "memory usage: 7.4 KB\n"
     ]
    }
   ],
   "source": [
    "dataset.info()"
   ]
  },
  {
   "cell_type": "code",
   "execution_count": 152,
   "id": "6acb512b",
   "metadata": {},
   "outputs": [
    {
     "data": {
      "text/plain": [
       "Index(['total_bill', 'tip', 'sex', 'smoker', 'day', 'time', 'size'], dtype='object')"
      ]
     },
     "execution_count": 152,
     "metadata": {},
     "output_type": "execute_result"
    }
   ],
   "source": [
    "dataset.columns"
   ]
  },
  {
   "cell_type": "code",
   "execution_count": 154,
   "id": "0efe1a8c",
   "metadata": {},
   "outputs": [
    {
     "data": {
      "text/html": [
       "<div>\n",
       "<style scoped>\n",
       "    .dataframe tbody tr th:only-of-type {\n",
       "        vertical-align: middle;\n",
       "    }\n",
       "\n",
       "    .dataframe tbody tr th {\n",
       "        vertical-align: top;\n",
       "    }\n",
       "\n",
       "    .dataframe thead th {\n",
       "        text-align: right;\n",
       "    }\n",
       "</style>\n",
       "<table border=\"1\" class=\"dataframe\">\n",
       "  <thead>\n",
       "    <tr style=\"text-align: right;\">\n",
       "      <th></th>\n",
       "      <th>sex</th>\n",
       "      <th>smoker</th>\n",
       "    </tr>\n",
       "  </thead>\n",
       "  <tbody>\n",
       "    <tr>\n",
       "      <th>0</th>\n",
       "      <td>Female</td>\n",
       "      <td>No</td>\n",
       "    </tr>\n",
       "    <tr>\n",
       "      <th>1</th>\n",
       "      <td>Male</td>\n",
       "      <td>No</td>\n",
       "    </tr>\n",
       "    <tr>\n",
       "      <th>2</th>\n",
       "      <td>Male</td>\n",
       "      <td>No</td>\n",
       "    </tr>\n",
       "    <tr>\n",
       "      <th>3</th>\n",
       "      <td>Male</td>\n",
       "      <td>No</td>\n",
       "    </tr>\n",
       "    <tr>\n",
       "      <th>4</th>\n",
       "      <td>Female</td>\n",
       "      <td>No</td>\n",
       "    </tr>\n",
       "    <tr>\n",
       "      <th>...</th>\n",
       "      <td>...</td>\n",
       "      <td>...</td>\n",
       "    </tr>\n",
       "    <tr>\n",
       "      <th>239</th>\n",
       "      <td>Male</td>\n",
       "      <td>No</td>\n",
       "    </tr>\n",
       "    <tr>\n",
       "      <th>240</th>\n",
       "      <td>Female</td>\n",
       "      <td>Yes</td>\n",
       "    </tr>\n",
       "    <tr>\n",
       "      <th>241</th>\n",
       "      <td>Male</td>\n",
       "      <td>Yes</td>\n",
       "    </tr>\n",
       "    <tr>\n",
       "      <th>242</th>\n",
       "      <td>Male</td>\n",
       "      <td>No</td>\n",
       "    </tr>\n",
       "    <tr>\n",
       "      <th>243</th>\n",
       "      <td>Female</td>\n",
       "      <td>No</td>\n",
       "    </tr>\n",
       "  </tbody>\n",
       "</table>\n",
       "<p>244 rows × 2 columns</p>\n",
       "</div>"
      ],
      "text/plain": [
       "        sex smoker\n",
       "0    Female     No\n",
       "1      Male     No\n",
       "2      Male     No\n",
       "3      Male     No\n",
       "4    Female     No\n",
       "..      ...    ...\n",
       "239    Male     No\n",
       "240  Female    Yes\n",
       "241    Male    Yes\n",
       "242    Male     No\n",
       "243  Female     No\n",
       "\n",
       "[244 rows x 2 columns]"
      ]
     },
     "execution_count": 154,
     "metadata": {},
     "output_type": "execute_result"
    }
   ],
   "source": [
    "dataset[['sex','smoker']]"
   ]
  },
  {
   "cell_type": "code",
   "execution_count": 156,
   "id": "5ffbfec2",
   "metadata": {},
   "outputs": [],
   "source": [
    "dataset_table  = pd.crosstab(dataset['sex'],dataset['smoker'])"
   ]
  },
  {
   "cell_type": "code",
   "execution_count": 183,
   "id": "83199176",
   "metadata": {},
   "outputs": [],
   "source": [
    "observed_value = dataset_table.values"
   ]
  },
  {
   "cell_type": "code",
   "execution_count": 184,
   "id": "33913149",
   "metadata": {},
   "outputs": [
    {
     "data": {
      "text/plain": [
       "array([[60, 97],\n",
       "       [33, 54]])"
      ]
     },
     "execution_count": 184,
     "metadata": {},
     "output_type": "execute_result"
    }
   ],
   "source": [
    "dataset_array"
   ]
  },
  {
   "cell_type": "code",
   "execution_count": 185,
   "id": "152d4a06",
   "metadata": {},
   "outputs": [
    {
     "name": "stdout",
     "output_type": "stream",
     "text": [
      "Observed Values\n",
      " [[60 97]\n",
      " [33 54]]\n"
     ]
    }
   ],
   "source": [
    "print(f\"Observed Values\\n {observed_value}\")"
   ]
  },
  {
   "cell_type": "code",
   "execution_count": 186,
   "id": "836fc6e9",
   "metadata": {},
   "outputs": [],
   "source": [
    "stats_test,pvalue,dof,expected_value = stats.chi2_contingency(dataset_array)"
   ]
  },
  {
   "cell_type": "code",
   "execution_count": 187,
   "id": "bcb596d2",
   "metadata": {},
   "outputs": [
    {
     "data": {
      "text/plain": [
       "0.6335841846916392"
      ]
     },
     "execution_count": 187,
     "metadata": {},
     "output_type": "execute_result"
    }
   ],
   "source": [
    "p_value"
   ]
  },
  {
   "cell_type": "code",
   "execution_count": 192,
   "id": "d005da36",
   "metadata": {},
   "outputs": [
    {
     "name": "stdout",
     "output_type": "stream",
     "text": [
      "Observed Values\n",
      " [[60 97]\n",
      " [33 54]]\n"
     ]
    }
   ],
   "source": [
    "print(f\"Observed Values\\n {observed_value}\")"
   ]
  },
  {
   "cell_type": "code",
   "execution_count": 193,
   "id": "2407c719",
   "metadata": {},
   "outputs": [
    {
     "data": {
      "text/plain": [
       "array([[59.84016393, 97.15983607],\n",
       "       [33.15983607, 53.84016393]])"
      ]
     },
     "execution_count": 193,
     "metadata": {},
     "output_type": "execute_result"
    }
   ],
   "source": [
    "expected_value"
   ]
  },
  {
   "cell_type": "code",
   "execution_count": 194,
   "id": "1241ec5c",
   "metadata": {},
   "outputs": [
    {
     "data": {
      "text/html": [
       "<div>\n",
       "<style scoped>\n",
       "    .dataframe tbody tr th:only-of-type {\n",
       "        vertical-align: middle;\n",
       "    }\n",
       "\n",
       "    .dataframe tbody tr th {\n",
       "        vertical-align: top;\n",
       "    }\n",
       "\n",
       "    .dataframe thead th {\n",
       "        text-align: right;\n",
       "    }\n",
       "</style>\n",
       "<table border=\"1\" class=\"dataframe\">\n",
       "  <thead>\n",
       "    <tr style=\"text-align: right;\">\n",
       "      <th>smoker</th>\n",
       "      <th>Yes</th>\n",
       "      <th>No</th>\n",
       "    </tr>\n",
       "    <tr>\n",
       "      <th>sex</th>\n",
       "      <th></th>\n",
       "      <th></th>\n",
       "    </tr>\n",
       "  </thead>\n",
       "  <tbody>\n",
       "    <tr>\n",
       "      <th>Male</th>\n",
       "      <td>60</td>\n",
       "      <td>97</td>\n",
       "    </tr>\n",
       "    <tr>\n",
       "      <th>Female</th>\n",
       "      <td>33</td>\n",
       "      <td>54</td>\n",
       "    </tr>\n",
       "  </tbody>\n",
       "</table>\n",
       "</div>"
      ],
      "text/plain": [
       "smoker  Yes  No\n",
       "sex            \n",
       "Male     60  97\n",
       "Female   33  54"
      ]
     },
     "execution_count": 194,
     "metadata": {},
     "output_type": "execute_result"
    }
   ],
   "source": [
    "dataset_table"
   ]
  },
  {
   "cell_type": "code",
   "execution_count": 195,
   "id": "82ee0108",
   "metadata": {
    "scrolled": true
   },
   "outputs": [],
   "source": [
    "no_of_rows = dataset_table.iloc[0:2,0]"
   ]
  },
  {
   "cell_type": "code",
   "execution_count": 196,
   "id": "7e5294d9",
   "metadata": {},
   "outputs": [],
   "source": [
    "no_of_cols = dataset_table.iloc[0,0:2]"
   ]
  },
  {
   "cell_type": "code",
   "execution_count": 197,
   "id": "ee66eb89",
   "metadata": {},
   "outputs": [
    {
     "data": {
      "text/plain": [
       "sex\n",
       "Male      60\n",
       "Female    33\n",
       "Name: Yes, dtype: int64"
      ]
     },
     "execution_count": 197,
     "metadata": {},
     "output_type": "execute_result"
    }
   ],
   "source": [
    "no_of_rows"
   ]
  },
  {
   "cell_type": "code",
   "execution_count": 198,
   "id": "8556d884",
   "metadata": {},
   "outputs": [
    {
     "data": {
      "text/plain": [
       "smoker\n",
       "Yes    60\n",
       "No     97\n",
       "Name: Male, dtype: int64"
      ]
     },
     "execution_count": 198,
     "metadata": {},
     "output_type": "execute_result"
    }
   ],
   "source": [
    "no_of_cols"
   ]
  },
  {
   "cell_type": "code",
   "execution_count": 199,
   "id": "c436388f",
   "metadata": {},
   "outputs": [],
   "source": [
    "dof = (len(no_of_cols)-1)*(len(no_of_rows)-1)"
   ]
  },
  {
   "cell_type": "code",
   "execution_count": 200,
   "id": "973f6a7e",
   "metadata": {},
   "outputs": [
    {
     "data": {
      "text/plain": [
       "1"
      ]
     },
     "execution_count": 200,
     "metadata": {},
     "output_type": "execute_result"
    }
   ],
   "source": [
    "dof"
   ]
  },
  {
   "cell_type": "code",
   "execution_count": 203,
   "id": "d92ab30d",
   "metadata": {},
   "outputs": [
    {
     "name": "stdout",
     "output_type": "stream",
     "text": [
      "[60 97] [59.84016393 97.15983607]\n",
      "[33 54] [33.15983607 53.84016393]\n"
     ]
    }
   ],
   "source": [
    "for o,e in zip(observed_value,expected_value):\n",
    "    print(o,e)"
   ]
  },
  {
   "cell_type": "code",
   "execution_count": 205,
   "id": "e272dbf6",
   "metadata": {},
   "outputs": [],
   "source": [
    "chi_square_test = sum([(o-e)**2/e for o,e in zip(observed_value,expected_value)])"
   ]
  },
  {
   "cell_type": "code",
   "execution_count": 206,
   "id": "e849a55a",
   "metadata": {},
   "outputs": [
    {
     "data": {
      "text/plain": [
       "array([0.00119737, 0.00073745])"
      ]
     },
     "execution_count": 206,
     "metadata": {},
     "output_type": "execute_result"
    }
   ],
   "source": [
    "chi_square_test"
   ]
  },
  {
   "cell_type": "code",
   "execution_count": 210,
   "id": "099a8712",
   "metadata": {},
   "outputs": [],
   "source": [
    "chi_square_statistic = chi_square_test[0]+chi_square_test[1]"
   ]
  },
  {
   "cell_type": "code",
   "execution_count": 208,
   "id": "ea02e4c3",
   "metadata": {},
   "outputs": [],
   "source": [
    "alpha = 0.05"
   ]
  },
  {
   "cell_type": "code",
   "execution_count": 211,
   "id": "6f5d355b",
   "metadata": {},
   "outputs": [],
   "source": [
    "critical_value = stats.chi2.ppf(1-alpha,df=dof)"
   ]
  },
  {
   "cell_type": "code",
   "execution_count": 214,
   "id": "510f815d",
   "metadata": {},
   "outputs": [],
   "source": [
    "p_value = 1- stats.chi2.cdf(x= chi_square_statistic,df=dof)"
   ]
  },
  {
   "cell_type": "code",
   "execution_count": 215,
   "id": "1087d83c",
   "metadata": {},
   "outputs": [
    {
     "name": "stdout",
     "output_type": "stream",
     "text": [
      "Accept H0, There is no relationship between two categorical variables\n"
     ]
    }
   ],
   "source": [
    "if chi_square_statistic>= critical_value:\n",
    "    print(\"Reject H0, There is a relationship between two categorical variables\")\n",
    "else:\n",
    "    print(\"Accept H0, There is no relationship between two categorical variables\")\n",
    "    "
   ]
  },
  {
   "cell_type": "code",
   "execution_count": 216,
   "id": "806bc887",
   "metadata": {},
   "outputs": [
    {
     "name": "stdout",
     "output_type": "stream",
     "text": [
      "Accept H0, There is no relationship between two categorical variables\n"
     ]
    }
   ],
   "source": [
    "if p_value<= alpha:\n",
    "    print(\"Reject H0, There is a relationship between two categorical variables\")\n",
    "else:\n",
    "    print(\"Accept H0, There is no relationship between two categorical variables\")"
   ]
  },
  {
   "cell_type": "code",
   "execution_count": null,
   "id": "3d2a3f15",
   "metadata": {},
   "outputs": [],
   "source": []
  }
 ],
 "metadata": {
  "kernelspec": {
   "display_name": "Python 3 (ipykernel)",
   "language": "python",
   "name": "python3"
  },
  "language_info": {
   "codemirror_mode": {
    "name": "ipython",
    "version": 3
   },
   "file_extension": ".py",
   "mimetype": "text/x-python",
   "name": "python",
   "nbconvert_exporter": "python",
   "pygments_lexer": "ipython3",
   "version": "3.9.12"
  }
 },
 "nbformat": 4,
 "nbformat_minor": 5
}
